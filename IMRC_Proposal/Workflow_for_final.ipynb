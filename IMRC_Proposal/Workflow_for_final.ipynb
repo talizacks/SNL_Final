{
 "cells": [
  {
   "cell_type": "markdown",
   "id": "a1be0f50",
   "metadata": {},
   "source": [
    "# Pain Points\n",
    "1. Figuring out the best dataset to use (IMDb vs Wiki vs SNL Archive) -Elizabeth\n",
    "2. How to combine them for the most comprehensive dataset -Elizabeth\n",
    "3. Creating a dictionary with knownForTitles as items by running through IMDb data and appending any new unique ID for projects -Elizabeth\n",
    "4. Figuring out the best way to visualizae the data (probably going to go with a heat map) -Matt\n",
    "\n",
    "\n",
    "I would say that most of my pain points come from having never attempted a project like this before. Both the final assignment for my Data Viz class and this final are almost entirely open ended. I have never had to work with data from so many different sources to get what I am looking for and frankly, I'm kind of embarrassed by the amount of help I've been asking for. It feels like everytime I hit a wall, my instinct is to just ask someone else a ton of questions. I need to learn how to come up with solutions in my own creative way rather than just feeling stuck and immediately seeking help.\n",
    "\n",
    "- Exploring/cleaning data: April 18th\n",
    "- Visualizing data: April 25th\n",
    "- Finished presentation of data for audience (For IMRC and Data Viz): May 2nd\n",
    "- Final project submission for IMRC: May 6th\n",
    "- Resubmission after feedback for Data Viz: May 10th"
   ]
  },
  {
   "cell_type": "markdown",
   "id": "0e02ab60",
   "metadata": {},
   "source": [
    "## Activity Reflection\n",
    "This activity was helpful for many reasons, but mostly because I'm the kind of person who doesn't let due dates control my schedule (even when I should). Being able to look at the steps of my project written out on paper in order to physically see the components of each step was incredibly productive. Regularly, I work by going with the flow and conceptualizing in my head. In conjunction with the due date portion or the assignment, I was able to get a pretty solid idea of the kind of work I will have to do moving forward and the timeline that I should be working on. I'm not used to breaking up assignments in this way. I'm not sure if I will adopt it into my regular workflow, but I definitely feel more at ease now that I have. It felt like the equivalent of an outline for a writing assignment and that did give me some comfort. I also began to realize that while I already feel behind on my project, that is merely in my head and if anything, I am ahead of schedule."
   ]
  },
  {
   "cell_type": "code",
   "execution_count": 1,
   "id": "8b6857b4",
   "metadata": {},
   "outputs": [],
   "source": [
    "from IPython.display import Image"
   ]
  },
  {
   "cell_type": "markdown",
   "id": "8d020cec",
   "metadata": {},
   "source": [
    "![WorkflowDiagram](workflow_diagram.png)"
   ]
  },
  {
   "cell_type": "code",
   "execution_count": null,
   "id": "d60a5928",
   "metadata": {},
   "outputs": [],
   "source": []
  }
 ],
 "metadata": {
  "kernelspec": {
   "display_name": "Python 3 (ipykernel)",
   "language": "python",
   "name": "python3"
  },
  "language_info": {
   "codemirror_mode": {
    "name": "ipython",
    "version": 3
   },
   "file_extension": ".py",
   "mimetype": "text/x-python",
   "name": "python",
   "nbconvert_exporter": "python",
   "pygments_lexer": "ipython3",
   "version": "3.9.7"
  }
 },
 "nbformat": 4,
 "nbformat_minor": 5
}
