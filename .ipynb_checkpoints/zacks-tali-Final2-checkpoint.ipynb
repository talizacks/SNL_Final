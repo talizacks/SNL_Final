{
 "cells": [
  {
   "cell_type": "code",
   "execution_count": 2,
   "id": "d4312da2",
   "metadata": {},
   "outputs": [],
   "source": [
    "import pandas as pd\n",
    "import sqlite3\n",
    "import matplotlib\n",
    "import ipywidgets\n",
    "import matplotlib.pyplot as plt\n",
    "import regex as re\n",
    "import bqplot\n",
    "import numpy as np\n",
    "import seaborn as sb\n",
    "\n",
    "import plotly.graph_objects as go\n",
    "import networkx as nx"
   ]
  },
  {
   "cell_type": "code",
   "execution_count": null,
   "id": "55022b8b",
   "metadata": {},
   "outputs": [],
   "source": [
    "principals = pd.read_csv('Imdb_data/title.principals.tsv',delimiter='\\t')\n",
    "basics = pd.read_csv('Imdb_data/title.basics.tsv',delimiter='\\t')\n",
    "imdb_names = pd.read_csv('Imdb_data/name.basics.tsv',delimiter='\\t')"
   ]
  },
  {
   "cell_type": "code",
   "execution_count": null,
   "id": "cc757733",
   "metadata": {},
   "outputs": [],
   "source": []
  }
 ],
 "metadata": {
  "kernelspec": {
   "display_name": "Python 3 (ipykernel)",
   "language": "python",
   "name": "python3"
  },
  "language_info": {
   "codemirror_mode": {
    "name": "ipython",
    "version": 3
   },
   "file_extension": ".py",
   "mimetype": "text/x-python",
   "name": "python",
   "nbconvert_exporter": "python",
   "pygments_lexer": "ipython3",
   "version": "3.7.12"
  }
 },
 "nbformat": 4,
 "nbformat_minor": 5
}
