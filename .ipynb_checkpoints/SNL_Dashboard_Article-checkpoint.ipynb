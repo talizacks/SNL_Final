{
 "cells": [
  {
   "cell_type": "markdown",
   "id": "964b65af",
   "metadata": {},
   "source": [
    "# Live from New York it's Saturday Night\n",
    "## Saturday Night Live Interactive Collaboration Dashboard\n",
    "### By Tali Zacks"
   ]
  },
  {
   "cell_type": "markdown",
   "id": "836af4c3",
   "metadata": {},
   "source": [
    "How often have you been watching an Adam Sandler movie, sitting there thinking \"David Spade and Rob Schneider... AGAIN?\" Or perhaps you're enjoying the comedic works of Fred Armisen, when you notice Maya Rudolph and Andy Samberg keep popping up. Of course you can't think of Amy Poehler without her partner in crime, Tina Fey, also coming to mind.  \n",
    "If your go to genre is comedy, then you've likely noticed that when a project features an SNL cast member, there is a good chance two or more other SNL players are involves as well. But how frequently do these collaborations occur? Well we can start by taking a look at the complete list of SNL players, the time they spent on the show, and how that time overlaps."
   ]
  },
  {
   "cell_type": "markdown",
   "id": "d872cf8b",
   "metadata": {},
   "source": [
    "The below graphic is from a wikipedia article: [List of Saturday Night Live cast members](https://upload.wikimedia.org/wikipedia/en/timeline/noaao9t3y73otoz9qfd3pyzs7jetgq0.png)  \n",
    "Lighter colors denote repertory cast members versus \"featured players\"."
   ]
  },
  {
   "cell_type": "markdown",
   "id": "d6e2a01f",
   "metadata": {},
   "source": [
    "![Timeline](wiki_cast_members_timeline.png)"
   ]
  },
  {
   "cell_type": "markdown",
   "id": "6f76b30c",
   "metadata": {},
   "source": [
    "Once you've taken a look at the full cast, you can appreciate the overlap in time spent on the show and maybe understand the strength of relationships built between cast members who spent 5+ seasons together, rehearsing every weekday and preforming every saturday night for half of the calendar year.\n",
    "\n",
    "To begin, lets take a look at the overlap between (non-SNL-related) projects. I began by analyzing the crossover between IMDb 'knownForTitles,' the set of four or five titles on the cover page of an actor's IMDb page. I created the following graphic by doing just that. I first ensured that for every entry of an SNL actor's name in the IMDb dataset, I was appending the knownForTitles to a larger list of titles for that actor and also a complete list of knownForTitles for all the actors. That process involved creating a boolean table which checked for each title against an actor's knownForTitles list."
   ]
  },
  {
   "cell_type": "markdown",
   "id": "4518d976",
   "metadata": {},
   "source": [
    "![Timeline](full_heatmap.png)"
   ]
  },
  {
   "cell_type": "markdown",
   "id": "b4ac9f69",
   "metadata": {},
   "source": [
    "Following the creation of the IMDb, full heat map (including 159 cast members and a fraction of the 1127 knownForTitles), I was able to start creating boolean tables that determined cell values based on the existence of a selected actor's knownForTitles amongst the knownForTitles lists of the other 158 actors. Each table is then called to create a binary heat map based on a call from the bqplot barchart bar selection. The final dashboard is displayed at the end of the article.\n",
    "\n",
    "I wanted to create more accurate comprehensive lists of projects that each cast member has been involved in. I did this through a process called web scraping. I scraped wikipedia 'Filmography' tables for each SNL cast member. The table in the [List of Saturday Night Live cast members](https://en.wikipedia.org/wiki/List_of_Saturday_Night_Live_cast_members) Wikipedia page became a perfect hub of the SNL players' Wikipedia hyperlinks. I used those links and the Filmography tables on each page to build the lists of each actor's tv and film projects.  \n",
    "Below, I have included Maya Rudolph's tv project list. It was combined with her film list and then assigned to her dictionary key as a value list.  \n",
    "This dictionary replaced the knownForTitles and the boolean tables were recreated based on the new dictionary."
   ]
  },
  {
   "cell_type": "code",
   "execution_count": 10,
   "id": "bcf06e86",
   "metadata": {},
   "outputs": [
    {
     "data": {
      "text/plain": [
       "['Chicago Hope',\n",
       " \"The Devil's Child\",\n",
       " 'Action',\n",
       " 'City of Angels',\n",
       " 'Saturday Night Live',\n",
       " 'Campus Ladies',\n",
       " 'The Simpsons',\n",
       " 'Kath & Kim',\n",
       " 'The Mighty B!',\n",
       " 'Up All Night',\n",
       " 'Saturday Night Live',\n",
       " 'Portlandia',\n",
       " 'The Maya Rudolph Show',\n",
       " 'Family Guy',\n",
       " 'The Awesomes',\n",
       " 'Comedy Bang! Bang!',\n",
       " 'The Spoils Before Dying',\n",
       " 'Drunk History',\n",
       " 'Angie Tribeca',\n",
       " 'Maya & Marty',\n",
       " 'Brooklyn Nine-Nine',\n",
       " 'Documentary Now!',\n",
       " 'The Grinder',\n",
       " 'Mike Tyson Mysteries',\n",
       " \"Michael Bolton's Big, Sexy Valentine's Day Special\",\n",
       " 'Nobodies',\n",
       " 'Unbreakable Kimmy Schmidt',\n",
       " 'Tour de Pharmacy',\n",
       " 'The Gong Show',\n",
       " 'Big Mouth',\n",
       " 'Big Hero 6: The Series',\n",
       " 'A Christmas Story Live!',\n",
       " 'The Good Place',\n",
       " 'Forever',\n",
       " 'I Love You, America with Sarah Silverman',\n",
       " 'The Unauthorized Bash Brothers Experience',\n",
       " 'Nailed It!',\n",
       " 'Bless the Harts',\n",
       " 'Mapleworth Murders',\n",
       " \"Eater's Guide to the World\",\n",
       " \"Sarah Cooper: Everything's Fine\",\n",
       " 'Baking It',\n",
       " 'A Clüsterfünke Christmas',\n",
       " 'MacGruber',\n",
       " 'Human Resources',\n",
       " 'Loot']"
      ]
     },
     "execution_count": 10,
     "metadata": {},
     "output_type": "execute_result"
    }
   ],
   "source": [
    "import SNL_Final;\n",
    "SNL_Final.wiki_scrape.Maya_Rudolph_tv"
   ]
  },
  {
   "cell_type": "markdown",
   "id": "4235a239",
   "metadata": {},
   "source": [
    "To use the dashboard below, click on an actor's bar in the barchart on the left hand side of the screen. The label on top displays the number of seasons that actor was on SNL. When an actor's bar is selected, the binary heat map on the right hand side of the dashboard is also updated. Each column represents a different project that the selected actor was incolved in and each row represents an SNL cast member. If a box is light blue, it means that row's actor contributed to that column's project. If you use your mouse to hover over any box, a tooltip will display the row's actor, the column's project, and either a 1 or a 0 (1 -> involved, 0 -> not involved).  \n",
    "\n",
    "**_Note: On occasion, if an actor is chosen and their projects only include SNL, the heatmap gets a tad glitchy and  it might swap the color scale. To correct this, re-run the following cell_**"
   ]
  },
  {
   "cell_type": "code",
   "execution_count": 11,
   "id": "c42bb373",
   "metadata": {
    "scrolled": false
   },
   "outputs": [
    {
     "data": {
      "application/vnd.jupyter.widget-view+json": {
       "model_id": "867b66d1a6b04e39bedf88095b3faebf",
       "version_major": 2,
       "version_minor": 0
      },
      "text/plain": [
       "HBox(children=(VBox(children=(Label(value='Nora Dunn: 5 seasons on SNL'), Figure(axes=[Axis(label='SNL Cast Me…"
      ]
     },
     "metadata": {},
     "output_type": "display_data"
    }
   ],
   "source": [
    "SNL_Final.myDashboard"
   ]
  },
  {
   "cell_type": "code",
   "execution_count": null,
   "id": "0af5352a",
   "metadata": {},
   "outputs": [],
   "source": []
  }
 ],
 "metadata": {
  "kernelspec": {
   "display_name": "Python 3 (ipykernel)",
   "language": "python",
   "name": "python3"
  },
  "language_info": {
   "codemirror_mode": {
    "name": "ipython",
    "version": 3
   },
   "file_extension": ".py",
   "mimetype": "text/x-python",
   "name": "python",
   "nbconvert_exporter": "python",
   "pygments_lexer": "ipython3",
   "version": "3.7.12"
  }
 },
 "nbformat": 4,
 "nbformat_minor": 5
}
