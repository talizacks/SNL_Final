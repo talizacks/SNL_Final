{
 "cells": [
  {
   "cell_type": "code",
   "execution_count": 1,
   "metadata": {},
   "outputs": [],
   "source": [
    "from bs4 import BeautifulSoup\n",
    "import requests\n",
    "import pandas as pd\n",
    "import re"
   ]
  },
  {
   "cell_type": "code",
   "execution_count": 2,
   "metadata": {},
   "outputs": [],
   "source": [
    "# function to extract the name of a cast member from the url\n",
    "def get_cast_member_name(wikiurl):\n",
    "    if (\"#\" in wikiurl):\n",
    "        cast_member_name = re.search('wiki/(.*)#', wikiurl)\n",
    "    elif (\"#\" not in wikiurl):\n",
    "        cast_member_name = re.search('wiki/(.*)', wikiurl)\n",
    "    return cast_member_name.group(1)\n",
    "\n",
    "# automate the process of scraping the wikipedia page\n",
    "def get_wiki_table(wikiurl):\n",
    "    table_class=\"wikitable\"\n",
    "    response=requests.get(wikiurl)\n",
    "    print(response.status_code)\n",
    "\n",
    "    # parse data from the html into a beautifulsoup object\n",
    "    soup = BeautifulSoup(response.text, 'html.parser')\n",
    "    indiatable=soup.find_all('table',{'class':table_class})[0]\n",
    "    \n",
    "    df=pd.read_html(str(indiatable))\n",
    "    # convert list to dataframe\n",
    "    df=pd.DataFrame(df[0])\n",
    "    # extract the name of the cast member from the url\n",
    "    cast_member_name = get_cast_member_name(wikiurl)\n",
    "    # create a list with the name of the cast member\n",
    "    cast_member_list = []\n",
    "    # loop through titles and append to the list\n",
    "    for title in df['Title']:\n",
    "        cast_member_list.append(title)\n",
    "    \n",
    "    # parse data from the html into a beautifulsoup object\n",
    "    soup = BeautifulSoup(response.text, 'html.parser')\n",
    "    indiatable=soup.find_all('table',{'class':table_class})[1]\n",
    "\n",
    "    df=pd.read_html(str(indiatable))\n",
    "    # convert list to dataframe\n",
    "    df=pd.DataFrame(df[0])\n",
    "    cast_member_tv_list = []\n",
    "    # loop through titles and append to the list\n",
    "    for title in df['Title']:\n",
    "        cast_member_tv_list.append(title)\n",
    "    \n",
    "    # create a dictionary with the name of the cast member as the key and the list of titles as the value\n",
    "    cast_member_dict = {'Film':cast_member_list + cast_member_tv_list}\n",
    "    # add the dictionary to the dictionary of cast members\n",
    "    SNL_Cast_Members_Full_Titles_dict[cast_member_name] = cast_member_dict\n"
   ]
  },
  {
   "cell_type": "code",
   "execution_count": 4,
   "metadata": {},
   "outputs": [
    {
     "ename": "NameError",
     "evalue": "name 'SNL_Cast_Members_Full_Titles_dict' is not defined",
     "output_type": "error",
     "traceback": [
      "\u001b[0;31m---------------------------------------------------------------------------\u001b[0m",
      "\u001b[0;31mNameError\u001b[0m                                 Traceback (most recent call last)",
      "\u001b[0;32m/var/folders/5y/htsjngjd7nd_3ddqv2q24ynh0000gq/T/ipykernel_93994/1854045400.py\u001b[0m in \u001b[0;36m<module>\u001b[0;34m\u001b[0m\n\u001b[0;32m----> 1\u001b[0;31m \u001b[0mSNL_Cast_Members_Full_Titles_dict\u001b[0m\u001b[0;34m\u001b[0m\u001b[0;34m\u001b[0m\u001b[0m\n\u001b[0m",
      "\u001b[0;31mNameError\u001b[0m: name 'SNL_Cast_Members_Full_Titles_dict' is not defined"
     ]
    }
   ],
   "source": [
    "SNL_Cast_Members_Full_Titles_dict"
   ]
  },
  {
   "cell_type": "code",
   "execution_count": null,
   "metadata": {},
   "outputs": [],
   "source": []
  }
 ],
 "metadata": {
  "interpreter": {
   "hash": "8d72fa983bf560a8a6f3e37abe22257d29af655ae335547f87d10d1e6dc361a7"
  },
  "kernelspec": {
   "display_name": "Python 3 (ipykernel)",
   "language": "python",
   "name": "python3"
  },
  "language_info": {
   "codemirror_mode": {
    "name": "ipython",
    "version": 3
   },
   "file_extension": ".py",
   "mimetype": "text/x-python",
   "name": "python",
   "nbconvert_exporter": "python",
   "pygments_lexer": "ipython3",
   "version": "3.7.12"
  }
 },
 "nbformat": 4,
 "nbformat_minor": 2
}
